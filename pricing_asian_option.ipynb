{
  "cells": [
    {
      "cell_type": "markdown",
      "metadata": {
        "id": "view-in-github",
        "colab_type": "text"
      },
      "source": [
        "<a href=\"https://colab.research.google.com/github/blackhespy/asian-option-ann/blob/main/pricing_asian_option.ipynb\" target=\"_parent\"><img src=\"https://colab.research.google.com/assets/colab-badge.svg\" alt=\"Open In Colab\"/></a>"
      ]
    },
    {
      "cell_type": "markdown",
      "metadata": {
        "id": "Q2XT2lGlKUdN"
      },
      "source": [
        "**Skripsi**\n",
        "\n",
        "Ditulis oleh Christian Jauhari (6161901028)"
      ]
    },
    {
      "cell_type": "code",
      "execution_count": null,
      "metadata": {
        "colab": {
          "base_uri": "https://localhost:8080/"
        },
        "id": "UtdvwAEsiLBe",
        "outputId": "1142881c-90ea-4c35-db6a-553feb797c0c"
      },
      "outputs": [
        {
          "output_type": "stream",
          "name": "stdout",
          "text": [
            "Looking in indexes: https://pypi.org/simple, https://us-python.pkg.dev/colab-wheels/public/simple/\n",
            "Collecting tensorflow_addons\n",
            "  Downloading tensorflow_addons-0.19.0-cp38-cp38-manylinux_2_17_x86_64.manylinux2014_x86_64.whl (1.1 MB)\n",
            "\u001b[K     |████████████████████████████████| 1.1 MB 16.1 MB/s \n",
            "\u001b[?25hRequirement already satisfied: packaging in /usr/local/lib/python3.8/dist-packages (from tensorflow_addons) (21.3)\n",
            "Requirement already satisfied: typeguard>=2.7 in /usr/local/lib/python3.8/dist-packages (from tensorflow_addons) (2.7.1)\n",
            "Requirement already satisfied: pyparsing!=3.0.5,>=2.0.2 in /usr/local/lib/python3.8/dist-packages (from packaging->tensorflow_addons) (3.0.9)\n",
            "Installing collected packages: tensorflow-addons\n",
            "Successfully installed tensorflow-addons-0.19.0\n"
          ]
        }
      ],
      "source": [
        "!pip install tensorflow_addons"
      ]
    },
    {
      "cell_type": "code",
      "execution_count": null,
      "metadata": {
        "id": "lc7hQ661Kq3Q"
      },
      "outputs": [],
      "source": [
        "# Import packages\n",
        "import pylab\n",
        "import pandas as pd\n",
        "import numpy as np\n",
        "from scipy.stats import norm\n",
        "import matplotlib.pyplot as plt\n",
        "import seaborn as sns\n",
        "import random\n",
        "import time\n",
        "from scipy.stats import lognorm\n",
        "import matplotlib.pyplot as plt\n",
        "\n",
        "import tensorflow_addons as tfa\n",
        "import tensorflow as tf\n",
        "from tensorflow import keras\n",
        "from tensorflow.keras.callbacks import EarlyStopping\n",
        "from sklearn.model_selection import train_test_split\n",
        "from sklearn.preprocessing import StandardScaler\n",
        "import sklearn.metrics as metrics\n",
        "from scipy.stats import lognorm\n",
        "import scipy.stats as stats\n",
        "import pylab\n",
        "import statistics as sta"
      ]
    },
    {
      "cell_type": "markdown",
      "metadata": {
        "id": "sr-IFKOm-N-F"
      },
      "source": [
        "# Input Parameter"
      ]
    },
    {
      "cell_type": "code",
      "execution_count": null,
      "metadata": {
        "id": "6QabSxXQ-NMf"
      },
      "outputs": [],
      "source": [
        "#N: number of random options\n",
        "N = 5\n",
        "\n",
        "#Make the same random numbers every time using seed\n",
        "random.seed(42)\n",
        "\n",
        "#initial stock prices (uniform distribution)\n",
        "S = np.random.uniform(70,120,N)\n",
        "\n",
        "#Time maturity 7 day to 365 days (converted to year)\n",
        "T = np.random.randint(1,250, N) / 250\n",
        "\n",
        "#Strike Price\n",
        "K = np.random.randint(80,120,N)/ 100 * S\n",
        "\n",
        "#Time remaining untill maturity\n",
        "T_2 = T\n",
        "#for k in range(0,N):\n",
        "  #T2 = np.random.randint(1,T[k]*365) / 365\n",
        "  #T_2.append(T2)\n",
        "\n",
        "#Risk free rate (0.01 to 0.05)\n",
        "r = np.random.randint(100, 500, N) / 10000\n",
        "\n",
        "#volatility (5% to 50%)\n",
        "sigma = np.random.randint(5, 50, N) / 100\n",
        "\n",
        "#average stock prices untill (T-T_2)\n",
        "dT = 1/250\n",
        "#A = np.random.uniform(20,200,N)\n",
        "A = lognorm(0.164, loc = -18.376, scale = 112.610).rvs(size=N)\n"
      ]
    },
    {
      "cell_type": "markdown",
      "metadata": {
        "id": "IHHPO7H_62oM"
      },
      "source": [
        "# Benchmark Calculation\n"
      ]
    },
    {
      "cell_type": "code",
      "execution_count": null,
      "metadata": {
        "colab": {
          "base_uri": "https://localhost:8080/"
        },
        "id": "wvRUTv4168EA",
        "outputId": "9f284967-7403-4de1-f808-007490db6a3b"
      },
      "outputs": [
        {
          "output_type": "stream",
          "name": "stdout",
          "text": [
            "CPU times: user 8 µs, sys: 1e+03 ns, total: 9 µs\n",
            "Wall time: 13.1 µs\n"
          ]
        }
      ],
      "source": [
        "%%time\n",
        "def MC_benchmark(S,K,T,r,sigma,dT,M):\n",
        "  plt.figure(figsize=(8,8))\n",
        "  M_new = int(1/2*M)\n",
        "  A_new = []\n",
        "  A_t = []\n",
        "  S_t = []\n",
        "  C = []\n",
        "  C_akhir = []\n",
        "  for i in range (0,len(S)):\n",
        "    C=[]\n",
        "    for j in range(0,M_new):\n",
        "        path2 = [S[i]]\n",
        "        path1 = [S[i]]\n",
        "        temp1 = S[i]\n",
        "        temp2 = S[i]\n",
        "\n",
        "        for k in range(1,int(T[i]/dT)):\n",
        "          epsilon = np.random.normal(0,1)\n",
        "          temp1 = temp1 * np.exp(((r[i] - ((sigma[i] ** 2) / 2)) * dT) + (sigma[i] * epsilon * np.sqrt(dT)))\n",
        "          path1.append(temp1)\n",
        "          temp2 = temp2 * np.exp(((r[i] - ((sigma[i] ** 2) / 2)) * dT) + (sigma[i] * -epsilon * np.sqrt(dT)))\n",
        "          path2.append(temp2)\n",
        "        A_1 = np.mean(path1)\n",
        "        A_2 = np.mean(path2)\n",
        "        plt.plot(np.arange(0,T[i]/dT),path1)\n",
        "        plt.plot(np.arange(0,T[i]/dT),path2)\n",
        "        C.append( np.exp(-r[i]*T[i])*np.maximum(A_1-K[i],0) )\n",
        "        C.append( np.exp(-r[i]*T[i])*np.maximum(A_2-K[i],0) )\n",
        "    C_akhir.append(np.average(C))\n",
        "  return (C_akhir)"
      ]
    },
    {
      "cell_type": "code",
      "execution_count": null,
      "metadata": {
        "id": "y1CTkPWq6_dk",
        "colab": {
          "base_uri": "https://localhost:8080/",
          "height": 518
        },
        "outputId": "7594bfed-0afc-4638-9263-979e89a1fd19"
      },
      "outputs": [
        {
          "output_type": "stream",
          "name": "stdout",
          "text": [
            "CPU times: user 54.5 ms, sys: 97 µs, total: 54.6 ms\n",
            "Wall time: 307 ms\n"
          ]
        },
        {
          "output_type": "display_data",
          "data": {
            "text/plain": [
              "<Figure size 576x576 with 1 Axes>"
            ],
            "image/png": "[encoded data removed]"
          },
          "metadata": {
            "needs_background": "light"
          }
        }
      ],
      "source": [
        "%%time\n",
        "Benchmark = MC_benchmark(S,K,T,r,sigma,dT,2)"
      ]
    },
    {
      "cell_type": "code",
      "execution_count": null,
      "metadata": {
        "id": "5bQBn0RA7BSS"
      },
      "outputs": [],
      "source": [
        "Asian_MC = pd.DataFrame({'S': S,\n",
        "                              'K': K,\n",
        "                              'r': r,\n",
        "                              'T' : T,\n",
        "                              'sigma': sigma,\n",
        "                              'C Asia' : Benchmark,\n",
        "                              })\n",
        "Asian_MC"
      ]
    },
    {
      "cell_type": "markdown",
      "metadata": {
        "id": "Q9vj_vR7oasr"
      },
      "source": [
        "# Levy Approximation"
      ]
    },
    {
      "cell_type": "markdown",
      "metadata": {
        "id": "aUdECj_4Rj4O"
      },
      "source": [
        "Black-Scholes Asia Approximation Solution"
      ]
    },
    {
      "cell_type": "code",
      "execution_count": null,
      "metadata": {
        "id": "crOz7PxJN_U_"
      },
      "outputs": [],
      "source": [
        "def bsm_call_asia(S, K, A, T, T_2, r, sigma):\n",
        "  global v\n",
        "  global S_Z\n",
        "  global K_Z\n",
        "  global L\n",
        "  global d1\n",
        "  global d2\n",
        "  M = 2*S**2/(r+sigma**2)*( ((np.exp((2*r+sigma**2)*T_2)-1)/(2*r+sigma**2)) - ((np.exp(r*T_2)-1) / r) )\n",
        "  L = M/T**2\n",
        "  S_Z = S/(r*T)*(1-np.exp(-r*T_2))\n",
        "  K_Z = K - (A*(T-T_2)/T)\n",
        "  v = np.log(L) -2*(r*T_2 + np.log(S_Z))\n",
        "  d1 = 1/np.sqrt(v)*(np.log(L)/2 - np.log(np.abs(K_Z)))\n",
        "  d2 = d1 - np.sqrt(v)\n",
        "\n",
        "  return S_Z * norm.cdf(d1) - K_Z * np.exp(-r*T_2) * norm.cdf(d2)"
      ]
    },
    {
      "cell_type": "code",
      "execution_count": null,
      "metadata": {
        "colab": {
          "base_uri": "https://localhost:8080/",
          "height": 458
        },
        "id": "Ppt2yd9682mf",
        "outputId": "17cc1f28-cc85-4217-a65a-2f2106829d38"
      },
      "outputs": [
        {
          "name": "stdout",
          "output_type": "stream",
          "text": [
            "CPU times: user 31.5 ms, sys: 9.23 ms, total: 40.8 ms\n",
            "Wall time: 35.7 ms\n"
          ]
        },
        {
          "data": {
            "text/html": [
              "\n",
              "  <div id=\"df-afb5ad27-3b24-463e-9baa-e0a6e79b7b7b\">\n",
              "    <div class=\"colab-df-container\">\n",
              "      <div>\n",
              "<style scoped>\n",
              "    .dataframe tbody tr th:only-of-type {\n",
              "        vertical-align: middle;\n",
              "    }\n",
              "\n",
              "    .dataframe tbody tr th {\n",
              "        vertical-align: top;\n",
              "    }\n",
              "\n",
              "    .dataframe thead th {\n",
              "        text-align: right;\n",
              "    }\n",
              "</style>\n",
              "<table border=\"1\" class=\"dataframe\">\n",
              "  <thead>\n",
              "    <tr style=\"text-align: right;\">\n",
              "      <th></th>\n",
              "      <th>S</th>\n",
              "      <th>K</th>\n",
              "      <th>A</th>\n",
              "      <th>T</th>\n",
              "      <th>T_2</th>\n",
              "      <th>r</th>\n",
              "      <th>sigma</th>\n",
              "      <th>C Asia</th>\n",
              "    </tr>\n",
              "  </thead>\n",
              "  <tbody>\n",
              "    <tr>\n",
              "      <th>0</th>\n",
              "      <td>96.341299</td>\n",
              "      <td>79.963278</td>\n",
              "      <td>62.874017</td>\n",
              "      <td>0.160</td>\n",
              "      <td>0.160</td>\n",
              "      <td>0.0497</td>\n",
              "      <td>0.31</td>\n",
              "      <td>16.637028</td>\n",
              "    </tr>\n",
              "    <tr>\n",
              "      <th>1</th>\n",
              "      <td>80.131500</td>\n",
              "      <td>76.124925</td>\n",
              "      <td>79.751838</td>\n",
              "      <td>0.732</td>\n",
              "      <td>0.732</td>\n",
              "      <td>0.0221</td>\n",
              "      <td>0.31</td>\n",
              "      <td>7.373768</td>\n",
              "    </tr>\n",
              "    <tr>\n",
              "      <th>2</th>\n",
              "      <td>118.535739</td>\n",
              "      <td>126.833241</td>\n",
              "      <td>120.958765</td>\n",
              "      <td>0.960</td>\n",
              "      <td>0.960</td>\n",
              "      <td>0.0438</td>\n",
              "      <td>0.26</td>\n",
              "      <td>4.599012</td>\n",
              "    </tr>\n",
              "    <tr>\n",
              "      <th>3</th>\n",
              "      <td>89.189666</td>\n",
              "      <td>101.676220</td>\n",
              "      <td>103.103296</td>\n",
              "      <td>0.600</td>\n",
              "      <td>0.600</td>\n",
              "      <td>0.0129</td>\n",
              "      <td>0.44</td>\n",
              "      <td>2.940123</td>\n",
              "    </tr>\n",
              "    <tr>\n",
              "      <th>4</th>\n",
              "      <td>103.227648</td>\n",
              "      <td>103.227648</td>\n",
              "      <td>106.415967</td>\n",
              "      <td>0.356</td>\n",
              "      <td>0.356</td>\n",
              "      <td>0.0341</td>\n",
              "      <td>0.06</td>\n",
              "      <td>1.191671</td>\n",
              "    </tr>\n",
              "    <tr>\n",
              "      <th>...</th>\n",
              "      <td>...</td>\n",
              "      <td>...</td>\n",
              "      <td>...</td>\n",
              "      <td>...</td>\n",
              "      <td>...</td>\n",
              "      <td>...</td>\n",
              "      <td>...</td>\n",
              "      <td>...</td>\n",
              "    </tr>\n",
              "    <tr>\n",
              "      <th>95</th>\n",
              "      <td>91.256425</td>\n",
              "      <td>98.556939</td>\n",
              "      <td>173.005011</td>\n",
              "      <td>0.688</td>\n",
              "      <td>0.688</td>\n",
              "      <td>0.0131</td>\n",
              "      <td>0.42</td>\n",
              "      <td>4.664041</td>\n",
              "    </tr>\n",
              "    <tr>\n",
              "      <th>96</th>\n",
              "      <td>108.686971</td>\n",
              "      <td>102.165753</td>\n",
              "      <td>89.218828</td>\n",
              "      <td>0.228</td>\n",
              "      <td>0.228</td>\n",
              "      <td>0.0122</td>\n",
              "      <td>0.17</td>\n",
              "      <td>6.856013</td>\n",
              "    </tr>\n",
              "    <tr>\n",
              "      <th>97</th>\n",
              "      <td>116.729019</td>\n",
              "      <td>105.056117</td>\n",
              "      <td>96.619856</td>\n",
              "      <td>0.012</td>\n",
              "      <td>0.012</td>\n",
              "      <td>0.0344</td>\n",
              "      <td>0.34</td>\n",
              "      <td>11.692171</td>\n",
              "    </tr>\n",
              "    <tr>\n",
              "      <th>98</th>\n",
              "      <td>110.491514</td>\n",
              "      <td>128.170156</td>\n",
              "      <td>85.654162</td>\n",
              "      <td>0.036</td>\n",
              "      <td>0.036</td>\n",
              "      <td>0.0470</td>\n",
              "      <td>0.31</td>\n",
              "      <td>0.000006</td>\n",
              "    </tr>\n",
              "    <tr>\n",
              "      <th>99</th>\n",
              "      <td>115.054261</td>\n",
              "      <td>121.957517</td>\n",
              "      <td>73.363447</td>\n",
              "      <td>0.116</td>\n",
              "      <td>0.116</td>\n",
              "      <td>0.0185</td>\n",
              "      <td>0.42</td>\n",
              "      <td>1.416014</td>\n",
              "    </tr>\n",
              "  </tbody>\n",
              "</table>\n",
              "<p>100 rows × 8 columns</p>\n",
              "</div>\n",
              "      <button class=\"colab-df-convert\" onclick=\"convertToInteractive('df-afb5ad27-3b24-463e-9baa-e0a6e79b7b7b')\"\n",
              "              title=\"Convert this dataframe to an interactive table.\"\n",
              "              style=\"display:none;\">\n",
              "        \n",
              "  <svg xmlns=\"http://www.w3.org/2000/svg\" height=\"24px\"viewBox=\"0 0 24 24\"\n",
              "       width=\"24px\">\n",
              "    <path d=\"M0 0h24v24H0V0z\" fill=\"none\"/>\n",
              "    <path d=\"M18.56 5.44l.94 2.06.94-2.06 2.06-.94-2.06-.94-.94-2.06-.94 2.06-2.06.94zm-11 1L8.5 8.5l.94-2.06 2.06-.94-2.06-.94L8.5 2.5l-.94 2.06-2.06.94zm10 10l.94 2.06.94-2.06 2.06-.94-2.06-.94-.94-2.06-.94 2.06-2.06.94z\"/><path d=\"M17.41 7.96l-1.37-1.37c-.4-.4-.92-.59-1.43-.59-.52 0-1.04.2-1.43.59L10.3 9.45l-7.72 7.72c-.78.78-.78 2.05 0 2.83L4 21.41c.39.39.9.59 1.41.59.51 0 1.02-.2 1.41-.59l7.78-7.78 2.81-2.81c.8-.78.8-2.07 0-2.86zM5.41 20L4 18.59l7.72-7.72 1.47 1.35L5.41 20z\"/>\n",
              "  </svg>\n",
              "      </button>\n",
              "      \n",
              "  <style>\n",
              "    .colab-df-container {\n",
              "      display:flex;\n",
              "      flex-wrap:wrap;\n",
              "      gap: 12px;\n",
              "    }\n",
              "\n",
              "    .colab-df-convert {\n",
              "      background-color: #E8F0FE;\n",
              "      border: none;\n",
              "      border-radius: 50%;\n",
              "      cursor: pointer;\n",
              "      display: none;\n",
              "      fill: #1967D2;\n",
              "      height: 32px;\n",
              "      padding: 0 0 0 0;\n",
              "      width: 32px;\n",
              "    }\n",
              "\n",
              "    .colab-df-convert:hover {\n",
              "      background-color: #E2EBFA;\n",
              "      box-shadow: 0px 1px 2px rgba(60, 64, 67, 0.3), 0px 1px 3px 1px rgba(60, 64, 67, 0.15);\n",
              "      fill: #174EA6;\n",
              "    }\n",
              "\n",
              "    [theme=dark] .colab-df-convert {\n",
              "      background-color: #3B4455;\n",
              "      fill: #D2E3FC;\n",
              "    }\n",
              "\n",
              "    [theme=dark] .colab-df-convert:hover {\n",
              "      background-color: #434B5C;\n",
              "      box-shadow: 0px 1px 3px 1px rgba(0, 0, 0, 0.15);\n",
              "      filter: drop-shadow(0px 1px 2px rgba(0, 0, 0, 0.3));\n",
              "      fill: #FFFFFF;\n",
              "    }\n",
              "  </style>\n",
              "\n",
              "      <script>\n",
              "        const buttonEl =\n",
              "          document.querySelector('#df-afb5ad27-3b24-463e-9baa-e0a6e79b7b7b button.colab-df-convert');\n",
              "        buttonEl.style.display =\n",
              "          google.colab.kernel.accessAllowed ? 'block' : 'none';\n",
              "\n",
              "        async function convertToInteractive(key) {\n",
              "          const element = document.querySelector('#df-afb5ad27-3b24-463e-9baa-e0a6e79b7b7b');\n",
              "          const dataTable =\n",
              "            await google.colab.kernel.invokeFunction('convertToInteractive',\n",
              "                                                     [key], {});\n",
              "          if (!dataTable) return;\n",
              "\n",
              "          const docLinkHtml = 'Like what you see? Visit the ' +\n",
              "            '<a target=\"_blank\" href=https://colab.research.google.com/notebooks/data_table.ipynb>data table notebook</a>'\n",
              "            + ' to learn more about interactive tables.';\n",
              "          element.innerHTML = '';\n",
              "          dataTable['output_type'] = 'display_data';\n",
              "          await google.colab.output.renderOutput(dataTable, element);\n",
              "          const docLink = document.createElement('div');\n",
              "          docLink.innerHTML = docLinkHtml;\n",
              "          element.appendChild(docLink);\n",
              "        }\n",
              "      </script>\n",
              "    </div>\n",
              "  </div>\n",
              "  "
            ],
            "text/plain": [
              "             S           K           A      T    T_2       r  sigma     C Asia\n",
              "0    96.341299   79.963278   62.874017  0.160  0.160  0.0497   0.31  16.637028\n",
              "1    80.131500   76.124925   79.751838  0.732  0.732  0.0221   0.31   7.373768\n",
              "2   118.535739  126.833241  120.958765  0.960  0.960  0.0438   0.26   4.599012\n",
              "3    89.189666  101.676220  103.103296  0.600  0.600  0.0129   0.44   2.940123\n",
              "4   103.227648  103.227648  106.415967  0.356  0.356  0.0341   0.06   1.191671\n",
              "..         ...         ...         ...    ...    ...     ...    ...        ...\n",
              "95   91.256425   98.556939  173.005011  0.688  0.688  0.0131   0.42   4.664041\n",
              "96  108.686971  102.165753   89.218828  0.228  0.228  0.0122   0.17   6.856013\n",
              "97  116.729019  105.056117   96.619856  0.012  0.012  0.0344   0.34  11.692171\n",
              "98  110.491514  128.170156   85.654162  0.036  0.036  0.0470   0.31   0.000006\n",
              "99  115.054261  121.957517   73.363447  0.116  0.116  0.0185   0.42   1.416014\n",
              "\n",
              "[100 rows x 8 columns]"
            ]
          },
          "execution_count": 104,
          "metadata": {},
          "output_type": "execute_result"
        }
      ],
      "source": [
        "%%time\n",
        "levy = [bsm_call_asia(S[i], K[i], A[i], T[i], T_2[i], r[i], sigma[i]) for i in range (N)]\n",
        "Asian_Levy = pd.DataFrame({'S': S,\n",
        "                              'K': K,\n",
        "                              'A': A,\n",
        "                              'T': T,\n",
        "                              'T_2' : T_2,\n",
        "                              'r': r,\n",
        "                              'sigma': sigma,\n",
        "                              'C Asia' : levy\n",
        "                              })\n",
        "Asian_Levy"
      ]
    },
    {
      "cell_type": "markdown",
      "metadata": {
        "id": "aGXwyufT9pYv"
      },
      "source": [
        "## Calculating Error Levy with Benchmark"
      ]
    },
    {
      "cell_type": "code",
      "execution_count": null,
      "metadata": {
        "id": "TAtXODPQ9pGs"
      },
      "outputs": [],
      "source": [
        "mae = metrics.mean_absolute_error(levy, Benchmark)\n",
        "mse = metrics.mean_squared_error(levy, Benchmark)\n",
        "r2 = metrics.r2_score(levy, Benchmark)"
      ]
    },
    {
      "cell_type": "code",
      "execution_count": null,
      "metadata": {
        "colab": {
          "base_uri": "https://localhost:8080/"
        },
        "id": "fxOwlchZ9Py6",
        "outputId": "83733e97-f397-425b-893a-bec6b8432e27"
      },
      "outputs": [
        {
          "name": "stdout",
          "output_type": "stream",
          "text": [
            "Results of sklearn.metrics:\n",
            "MAE: 0.10053621301639241\n",
            "MSE: 0.026414443179545125\n",
            "R-Squared: 0.999201153209507\n"
          ]
        }
      ],
      "source": [
        "print(\"Results of sklearn.metrics:\")\n",
        "print(\"MAE:\",mae)\n",
        "print(\"MSE:\", mse)\n",
        "print(\"R-Squared:\", r2)"
      ]
    },
    {
      "cell_type": "markdown",
      "metadata": {
        "id": "oCBDCDeBBGPy"
      },
      "source": [
        "# Sobol Sequence"
      ]
    },
    {
      "cell_type": "code",
      "execution_count": null,
      "metadata": {
        "colab": {
          "base_uri": "https://localhost:8080/"
        },
        "id": "qy4Hh2hlBIQ-",
        "outputId": "19ae4d2e-61c7-4350-99b9-675de727f892"
      },
      "outputs": [
        {
          "name": "stdout",
          "output_type": "stream",
          "text": [
            "CPU times: user 19 µs, sys: 0 ns, total: 19 µs\n",
            "Wall time: 24.6 µs\n"
          ]
        }
      ],
      "source": [
        "%%time\n",
        "# SOBOL SEQUENCE\n",
        "def Sobol(S,K,T,r,sigma,dT):\n",
        "  sobol = stats.qmc.Sobol(d=1, scramble=False )\n",
        "  sobol_seq = sobol.random_base2(m=8)\n",
        "  sobol_transform = [ norm.ppf(sobol_seq[i][0]) for i in range (0,len(sobol_seq))]\n",
        "  sobol_transform[0] = 0.00001\n",
        "  A_new = []\n",
        "  A_t = []\n",
        "  S_t = []\n",
        "  C = []\n",
        "  quasi = sobol_transform\n",
        "  for j in range (0,len(S)):\n",
        "      path1 = [S[j]]\n",
        "      temp1 = S[j]\n",
        "\n",
        "      for i in range(1,int(T[j]/dT)):\n",
        "        if i > 255:\n",
        "          temp1 = temp1 * np.exp(((r[j] - ((sigma[j] ** 2) / 2)) * dT) + (sigma[j] * quasi[i-256] * np.sqrt(dT)))\n",
        "        else:\n",
        "          temp1 = temp1 * np.exp(((r[j] - ((sigma[j] ** 2) / 2)) * dT) + (sigma[j] * quasi[i] * np.sqrt(dT)))\n",
        "        path1.append(temp1)\n",
        "      S_t.append(temp1)\n",
        "      A_1 = np.mean(path1)\n",
        "      A_t.append(A_1)\n",
        "      C.append( np.exp(-r[j]*T[j])*np.maximum(A_1-K[j],0) )\n",
        "  return (C,A_t)"
      ]
    },
    {
      "cell_type": "code",
      "execution_count": null,
      "metadata": {
        "colab": {
          "base_uri": "https://localhost:8080/"
        },
        "id": "WiekiOcJBMeK",
        "outputId": "496a47e3-1007-47a5-f8a6-27da753768a9"
      },
      "outputs": [
        {
          "name": "stdout",
          "output_type": "stream",
          "text": [
            "CPU times: user 5 µs, sys: 0 ns, total: 5 µs\n",
            "Wall time: 9.3 µs\n"
          ]
        }
      ],
      "source": [
        "%%time\n",
        "# SOBOL SEQUENCE SCRAMBLED\n",
        "def Sobol_scramble(S,K,T,r,sigma,dT):\n",
        "  global sobol_all\n",
        "  sobol_all = []\n",
        "  for a in range (0,len(S)):\n",
        "    sobol = stats.qmc.Sobol(d=1 , scramble=True)\n",
        "    sobol_seq = sobol.random_base2(m=8)\n",
        "    quasi = [ norm.ppf(sobol_seq[i][0]) for i in range (0,len(sobol_seq))]\n",
        "    sobol_all.append(quasi)\n",
        "  A_new = []\n",
        "  A_t = []\n",
        "  S_t = []\n",
        "  C = []\n",
        "\n",
        "\n",
        "  for j in range (0,len(S)):\n",
        "      path1 = [S[j]]\n",
        "      temp1 = S[j]\n",
        "      for i in range(1,int(T[j]/dT)):\n",
        "        if i > 255 :\n",
        "          temp1 = temp1 * np.exp(((r[j] - ((sigma[j] ** 2) / 2)) * dT) + (sigma[j] * sobol_all[j][i-256] * np.sqrt(dT)))\n",
        "        else:\n",
        "          temp1 = temp1 * np.exp(((r[j] - ((sigma[j] ** 2) / 2)) * dT) + (sigma[j] * sobol_all[j][i] * np.sqrt(dT)))\n",
        "        path1.append(temp1)\n",
        "      S_t.append(temp1)\n",
        "      A_1 = np.mean(path1)\n",
        "      A_t.append(A_1)\n",
        "      C.append( np.exp(-r[j]*T[j])*np.maximum(A_1-K[j],0) )\n",
        "  return (C,A_t)"
      ]
    },
    {
      "cell_type": "code",
      "execution_count": null,
      "metadata": {
        "id": "p_sOjSAuDas7",
        "colab": {
          "base_uri": "https://localhost:8080/"
        },
        "outputId": "9a35bb5b-ec46-409f-814e-64e7bae74485"
      },
      "outputs": [
        {
          "output_type": "stream",
          "name": "stdout",
          "text": [
            "CPU times: user 6 µs, sys: 0 ns, total: 6 µs\n",
            "Wall time: 11.7 µs\n"
          ]
        }
      ],
      "source": [
        "%%time\n",
        "# SOBOL SEQUENCE SCRAMBLED BERULANG\n",
        "def Sobol_berulang(S,K,T,r,sigma,dT,M):\n",
        "  global sobol_all\n",
        "  #plt.figure(figsize=(8,8))\n",
        "  sobol_all = []\n",
        "  for a in range (0,int(M*1)):\n",
        "    sobol = stats.qmc.Sobol(d=1 , scramble=True)\n",
        "    sobol_seq = sobol.random_base2(m=8)\n",
        "    quasi = [ norm.ppf(sobol_seq[i][0]) for i in range (0,len(sobol_seq))]\n",
        "    sobol_all.append(quasi)\n",
        "  S_t = []\n",
        "  C=[]\n",
        "  C_akhir =[]\n",
        "  A_t = []\n",
        "  for j in range (0,1):\n",
        "    for k in range(0,M):\n",
        "      path1 = [S[j]]\n",
        "      temp1 = S[j]\n",
        "      for i in range(1,int(T[j]/dT)):\n",
        "        if i > 255 :\n",
        "          temp1 = temp1 * np.exp(((r[j] - ((sigma[j] ** 2) / 2)) * dT) + (sigma[j] * sobol_all[M*j+k][i-256] * np.sqrt(dT)))\n",
        "        else:\n",
        "          temp1 = temp1 * np.exp(((r[j] - ((sigma[j] ** 2) / 2)) * dT) + (sigma[j] * sobol_all[M*j+k][i] * np.sqrt(dT)))\n",
        "        path1.append(temp1)\n",
        "      #plt.plot(np.arange(0,T[j]/dT),path1)\n",
        "      S_t.append(temp1)\n",
        "      A_1 = np.mean(path1)\n",
        "      A_t.append(A_1)\n",
        "      C.append( np.exp(-r[j]*T[j])*np.maximum(A_1-K[j],0) )\n",
        "    C_akhir.append(np.average(C))\n",
        "  return (C_akhir,A_t)"
      ]
    },
    {
      "cell_type": "code",
      "execution_count": null,
      "metadata": {
        "colab": {
          "base_uri": "https://localhost:8080/"
        },
        "id": "IxjsKYu5BKUs",
        "outputId": "c3988061-d091-44d8-c1b1-41daa3f6bd52"
      },
      "outputs": [
        {
          "name": "stdout",
          "output_type": "stream",
          "text": [
            "CPU times: user 77.1 ms, sys: 0 ns, total: 77.1 ms\n",
            "Wall time: 77.8 ms\n"
          ]
        }
      ],
      "source": [
        "%%time\n",
        "Sobol_original = Sobol(S,K,T,r,sigma,dT)"
      ]
    },
    {
      "cell_type": "code",
      "execution_count": null,
      "metadata": {
        "colab": {
          "base_uri": "https://localhost:8080/",
          "height": 148
        },
        "id": "bIYf1s63Bqp0",
        "outputId": "f10e6646-c293-4951-ea74-919d748d3e6c"
      },
      "outputs": [
        {
          "ename": "TypeError",
          "evalue": "ignored",
          "output_type": "error",
          "traceback": [
            "\u001b[0;31m---------------------------------------------------------------------------\u001b[0m",
            "\u001b[0;31mTypeError\u001b[0m                                 Traceback (most recent call last)",
            "\u001b[0;32m<timed exec>\u001b[0m in \u001b[0;36m<module>\u001b[0;34m\u001b[0m\n",
            "\u001b[0;31mTypeError\u001b[0m: 'tuple' object is not callable"
          ]
        }
      ],
      "source": [
        "%%time\n",
        "Sobol_scramble = Sobol_scramble(S,K,T,r,sigma,dT)"
      ]
    },
    {
      "cell_type": "code",
      "execution_count": null,
      "metadata": {
        "id": "_OwClhJwDT2k",
        "colab": {
          "base_uri": "https://localhost:8080/"
        },
        "outputId": "51261bf7-d41e-4ecd-e9af-d80875e5453d"
      },
      "outputs": [
        {
          "output_type": "stream",
          "name": "stdout",
          "text": [
            "CPU times: user 25.3 s, sys: 136 ms, total: 25.5 s\n",
            "Wall time: 26.1 s\n"
          ]
        }
      ],
      "source": [
        "%%time\n",
        "M=1000\n",
        "Sobol_berulan = Sobol_berulang(S_p,K_p,T_p,r_p,sigma_p,dT,M)"
      ]
    },
    {
      "cell_type": "code",
      "source": [
        "max(Sobol_berulan[1])"
      ],
      "metadata": {
        "colab": {
          "base_uri": "https://localhost:8080/"
        },
        "id": "vMD-0SpiQoL_",
        "outputId": "cf13635d-95a1-44ac-ed8e-b1872fc203b3"
      },
      "execution_count": null,
      "outputs": [
        {
          "output_type": "execute_result",
          "data": {
            "text/plain": [
              "112.3599362209213"
            ]
          },
          "metadata": {},
          "execution_count": 23
        }
      ]
    },
    {
      "cell_type": "code",
      "execution_count": null,
      "metadata": {
        "colab": {
          "base_uri": "https://localhost:8080/",
          "height": 424
        },
        "id": "84fbORCRBxZj",
        "outputId": "0628eed7-ac24-4124-afa5-9d3a9c343069"
      },
      "outputs": [
        {
          "data": {
            "text/html": [
              "\n",
              "  <div id=\"df-67eaf12d-b9bd-48d4-b8d8-c577823c0faa\">\n",
              "    <div class=\"colab-df-container\">\n",
              "      <div>\n",
              "<style scoped>\n",
              "    .dataframe tbody tr th:only-of-type {\n",
              "        vertical-align: middle;\n",
              "    }\n",
              "\n",
              "    .dataframe tbody tr th {\n",
              "        vertical-align: top;\n",
              "    }\n",
              "\n",
              "    .dataframe thead th {\n",
              "        text-align: right;\n",
              "    }\n",
              "</style>\n",
              "<table border=\"1\" class=\"dataframe\">\n",
              "  <thead>\n",
              "    <tr style=\"text-align: right;\">\n",
              "      <th></th>\n",
              "      <th>S</th>\n",
              "      <th>K</th>\n",
              "      <th>T</th>\n",
              "      <th>r</th>\n",
              "      <th>sigma</th>\n",
              "      <th>A Sobol Original</th>\n",
              "      <th>C Asia Sobol Original</th>\n",
              "      <th>A Sobol Scrambled</th>\n",
              "      <th>C Asia Sobol Scrambled</th>\n",
              "    </tr>\n",
              "  </thead>\n",
              "  <tbody>\n",
              "    <tr>\n",
              "      <th>0</th>\n",
              "      <td>96.341299</td>\n",
              "      <td>79.963278</td>\n",
              "      <td>0.160</td>\n",
              "      <td>0.0497</td>\n",
              "      <td>0.31</td>\n",
              "      <td>96.808902</td>\n",
              "      <td>16.712198</td>\n",
              "      <td>96.017892</td>\n",
              "      <td>15.927454</td>\n",
              "    </tr>\n",
              "    <tr>\n",
              "      <th>1</th>\n",
              "      <td>80.131500</td>\n",
              "      <td>76.124925</td>\n",
              "      <td>0.732</td>\n",
              "      <td>0.0221</td>\n",
              "      <td>0.31</td>\n",
              "      <td>79.942085</td>\n",
              "      <td>3.755905</td>\n",
              "      <td>79.194457</td>\n",
              "      <td>3.020275</td>\n",
              "    </tr>\n",
              "    <tr>\n",
              "      <th>2</th>\n",
              "      <td>118.535739</td>\n",
              "      <td>126.833241</td>\n",
              "      <td>0.960</td>\n",
              "      <td>0.0438</td>\n",
              "      <td>0.26</td>\n",
              "      <td>120.375966</td>\n",
              "      <td>0.000000</td>\n",
              "      <td>118.756325</td>\n",
              "      <td>0.000000</td>\n",
              "    </tr>\n",
              "    <tr>\n",
              "      <th>3</th>\n",
              "      <td>89.189666</td>\n",
              "      <td>101.676220</td>\n",
              "      <td>0.600</td>\n",
              "      <td>0.0129</td>\n",
              "      <td>0.44</td>\n",
              "      <td>87.856130</td>\n",
              "      <td>0.000000</td>\n",
              "      <td>87.002413</td>\n",
              "      <td>0.000000</td>\n",
              "    </tr>\n",
              "    <tr>\n",
              "      <th>4</th>\n",
              "      <td>103.227648</td>\n",
              "      <td>103.227648</td>\n",
              "      <td>0.356</td>\n",
              "      <td>0.0341</td>\n",
              "      <td>0.06</td>\n",
              "      <td>103.921258</td>\n",
              "      <td>0.685241</td>\n",
              "      <td>103.815255</td>\n",
              "      <td>0.580518</td>\n",
              "    </tr>\n",
              "    <tr>\n",
              "      <th>...</th>\n",
              "      <td>...</td>\n",
              "      <td>...</td>\n",
              "      <td>...</td>\n",
              "      <td>...</td>\n",
              "      <td>...</td>\n",
              "      <td>...</td>\n",
              "      <td>...</td>\n",
              "      <td>...</td>\n",
              "      <td>...</td>\n",
              "    </tr>\n",
              "    <tr>\n",
              "      <th>95</th>\n",
              "      <td>91.256425</td>\n",
              "      <td>98.556939</td>\n",
              "      <td>0.688</td>\n",
              "      <td>0.0131</td>\n",
              "      <td>0.42</td>\n",
              "      <td>89.592855</td>\n",
              "      <td>0.000000</td>\n",
              "      <td>88.745828</td>\n",
              "      <td>0.000000</td>\n",
              "    </tr>\n",
              "    <tr>\n",
              "      <th>96</th>\n",
              "      <td>108.686971</td>\n",
              "      <td>102.165753</td>\n",
              "      <td>0.228</td>\n",
              "      <td>0.0122</td>\n",
              "      <td>0.17</td>\n",
              "      <td>109.205563</td>\n",
              "      <td>7.020255</td>\n",
              "      <td>108.506670</td>\n",
              "      <td>6.323303</td>\n",
              "    </tr>\n",
              "    <tr>\n",
              "      <th>97</th>\n",
              "      <td>116.729019</td>\n",
              "      <td>105.056117</td>\n",
              "      <td>0.012</td>\n",
              "      <td>0.0344</td>\n",
              "      <td>0.34</td>\n",
              "      <td>117.286442</td>\n",
              "      <td>12.225277</td>\n",
              "      <td>114.876934</td>\n",
              "      <td>9.816764</td>\n",
              "    </tr>\n",
              "    <tr>\n",
              "      <th>98</th>\n",
              "      <td>110.491514</td>\n",
              "      <td>128.170156</td>\n",
              "      <td>0.036</td>\n",
              "      <td>0.0470</td>\n",
              "      <td>0.31</td>\n",
              "      <td>110.846805</td>\n",
              "      <td>0.000000</td>\n",
              "      <td>109.460530</td>\n",
              "      <td>0.000000</td>\n",
              "    </tr>\n",
              "    <tr>\n",
              "      <th>99</th>\n",
              "      <td>115.054261</td>\n",
              "      <td>121.957517</td>\n",
              "      <td>0.116</td>\n",
              "      <td>0.0185</td>\n",
              "      <td>0.42</td>\n",
              "      <td>115.946599</td>\n",
              "      <td>0.000000</td>\n",
              "      <td>114.522042</td>\n",
              "      <td>0.000000</td>\n",
              "    </tr>\n",
              "  </tbody>\n",
              "</table>\n",
              "<p>100 rows × 9 columns</p>\n",
              "</div>\n",
              "      <button class=\"colab-df-convert\" onclick=\"convertToInteractive('df-67eaf12d-b9bd-48d4-b8d8-c577823c0faa')\"\n",
              "              title=\"Convert this dataframe to an interactive table.\"\n",
              "              style=\"display:none;\">\n",
              "        \n",
              "  <svg xmlns=\"http://www.w3.org/2000/svg\" height=\"24px\"viewBox=\"0 0 24 24\"\n",
              "       width=\"24px\">\n",
              "    <path d=\"M0 0h24v24H0V0z\" fill=\"none\"/>\n",
              "    <path d=\"M18.56 5.44l.94 2.06.94-2.06 2.06-.94-2.06-.94-.94-2.06-.94 2.06-2.06.94zm-11 1L8.5 8.5l.94-2.06 2.06-.94-2.06-.94L8.5 2.5l-.94 2.06-2.06.94zm10 10l.94 2.06.94-2.06 2.06-.94-2.06-.94-.94-2.06-.94 2.06-2.06.94z\"/><path d=\"M17.41 7.96l-1.37-1.37c-.4-.4-.92-.59-1.43-.59-.52 0-1.04.2-1.43.59L10.3 9.45l-7.72 7.72c-.78.78-.78 2.05 0 2.83L4 21.41c.39.39.9.59 1.41.59.51 0 1.02-.2 1.41-.59l7.78-7.78 2.81-2.81c.8-.78.8-2.07 0-2.86zM5.41 20L4 18.59l7.72-7.72 1.47 1.35L5.41 20z\"/>\n",
              "  </svg>\n",
              "      </button>\n",
              "      \n",
              "  <style>\n",
              "    .colab-df-container {\n",
              "      display:flex;\n",
              "      flex-wrap:wrap;\n",
              "      gap: 12px;\n",
              "    }\n",
              "\n",
              "    .colab-df-convert {\n",
              "      background-color: #E8F0FE;\n",
              "      border: none;\n",
              "      border-radius: 50%;\n",
              "      cursor: pointer;\n",
              "      display: none;\n",
              "      fill: #1967D2;\n",
              "      height: 32px;\n",
              "      padding: 0 0 0 0;\n",
              "      width: 32px;\n",
              "    }\n",
              "\n",
              "    .colab-df-convert:hover {\n",
              "      background-color: #E2EBFA;\n",
              "      box-shadow: 0px 1px 2px rgba(60, 64, 67, 0.3), 0px 1px 3px 1px rgba(60, 64, 67, 0.15);\n",
              "      fill: #174EA6;\n",
              "    }\n",
              "\n",
              "    [theme=dark] .colab-df-convert {\n",
              "      background-color: #3B4455;\n",
              "      fill: #D2E3FC;\n",
              "    }\n",
              "\n",
              "    [theme=dark] .colab-df-convert:hover {\n",
              "      background-color: #434B5C;\n",
              "      box-shadow: 0px 1px 3px 1px rgba(0, 0, 0, 0.15);\n",
              "      filter: drop-shadow(0px 1px 2px rgba(0, 0, 0, 0.3));\n",
              "      fill: #FFFFFF;\n",
              "    }\n",
              "  </style>\n",
              "\n",
              "      <script>\n",
              "        const buttonEl =\n",
              "          document.querySelector('#df-67eaf12d-b9bd-48d4-b8d8-c577823c0faa button.colab-df-convert');\n",
              "        buttonEl.style.display =\n",
              "          google.colab.kernel.accessAllowed ? 'block' : 'none';\n",
              "\n",
              "        async function convertToInteractive(key) {\n",
              "          const element = document.querySelector('#df-67eaf12d-b9bd-48d4-b8d8-c577823c0faa');\n",
              "          const dataTable =\n",
              "            await google.colab.kernel.invokeFunction('convertToInteractive',\n",
              "                                                     [key], {});\n",
              "          if (!dataTable) return;\n",
              "\n",
              "          const docLinkHtml = 'Like what you see? Visit the ' +\n",
              "            '<a target=\"_blank\" href=https://colab.research.google.com/notebooks/data_table.ipynb>data table notebook</a>'\n",
              "            + ' to learn more about interactive tables.';\n",
              "          element.innerHTML = '';\n",
              "          dataTable['output_type'] = 'display_data';\n",
              "          await google.colab.output.renderOutput(dataTable, element);\n",
              "          const docLink = document.createElement('div');\n",
              "          docLink.innerHTML = docLinkHtml;\n",
              "          element.appendChild(docLink);\n",
              "        }\n",
              "      </script>\n",
              "    </div>\n",
              "  </div>\n",
              "  "
            ],
            "text/plain": [
              "             S           K      T       r  sigma  A Sobol Original  \\\n",
              "0    96.341299   79.963278  0.160  0.0497   0.31         96.808902   \n",
              "1    80.131500   76.124925  0.732  0.0221   0.31         79.942085   \n",
              "2   118.535739  126.833241  0.960  0.0438   0.26        120.375966   \n",
              "3    89.189666  101.676220  0.600  0.0129   0.44         87.856130   \n",
              "4   103.227648  103.227648  0.356  0.0341   0.06        103.921258   \n",
              "..         ...         ...    ...     ...    ...               ...   \n",
              "95   91.256425   98.556939  0.688  0.0131   0.42         89.592855   \n",
              "96  108.686971  102.165753  0.228  0.0122   0.17        109.205563   \n",
              "97  116.729019  105.056117  0.012  0.0344   0.34        117.286442   \n",
              "98  110.491514  128.170156  0.036  0.0470   0.31        110.846805   \n",
              "99  115.054261  121.957517  0.116  0.0185   0.42        115.946599   \n",
              "\n",
              "    C Asia Sobol Original  A Sobol Scrambled  C Asia Sobol Scrambled  \n",
              "0               16.712198          96.017892               15.927454  \n",
              "1                3.755905          79.194457                3.020275  \n",
              "2                0.000000         118.756325                0.000000  \n",
              "3                0.000000          87.002413                0.000000  \n",
              "4                0.685241         103.815255                0.580518  \n",
              "..                    ...                ...                     ...  \n",
              "95               0.000000          88.745828                0.000000  \n",
              "96               7.020255         108.506670                6.323303  \n",
              "97              12.225277         114.876934                9.816764  \n",
              "98               0.000000         109.460530                0.000000  \n",
              "99               0.000000         114.522042                0.000000  \n",
              "\n",
              "[100 rows x 9 columns]"
            ]
          },
          "execution_count": 111,
          "metadata": {},
          "output_type": "execute_result"
        }
      ],
      "source": [
        "Asian_Sobol = pd.DataFrame({'S': S,\n",
        "                              'K': K,\n",
        "                              'T': T,\n",
        "                              'r': r,\n",
        "                              'sigma': sigma,\n",
        "                              'A Sobol Original' : Sobol_original[1],\n",
        "                              'C Asia Sobol Original' : Sobol_original[0],\n",
        "                              'A Sobol Scrambled' : Sobol_scramble[1],\n",
        "                              'C Asia Sobol Scrambled' : Sobol_scramble[0],\n",
        "                              })\n",
        "Asian_Sobol"
      ]
    },
    {
      "cell_type": "code",
      "execution_count": null,
      "metadata": {
        "id": "ku4W4ZC3GvTk"
      },
      "outputs": [],
      "source": [
        "%%time\n",
        "Asian_MC = pd.DataFrame({'S': [S[i] for i in range (0,N) for j in range(0,M) ],\n",
        "                              #'K': [K[i] for i in range (0,N) for j in range(0,M) ],\n",
        "                              'St' : CA[2],\n",
        "                              #'A': CA[1],\n",
        "                              'T': [T[i] for i in range (0,N) for j in range(0,M) ],\n",
        "                              'r': [r[i] for i in range (0,N) for j in range(0,M) ],\n",
        "                              'sigma': [sigma[i] for i in range (0,N) for j in range(0,M) ],\n",
        "                              'C Asia' : CA[0]\n",
        "                              })"
      ]
    },
    {
      "cell_type": "markdown",
      "metadata": {
        "id": "oCw9sEcOCV1m"
      },
      "source": [
        "## Calculating Error Sobol with Benchmark"
      ]
    },
    {
      "cell_type": "markdown",
      "metadata": {
        "id": "QbLJPVVmCZZU"
      },
      "source": [
        "### Sobol Original"
      ]
    },
    {
      "cell_type": "code",
      "execution_count": null,
      "metadata": {
        "id": "uKfJzEYPCQz8"
      },
      "outputs": [],
      "source": [
        "mae = metrics.mean_absolute_error(Sobol_original[0], Benchmark)\n",
        "mse = metrics.mean_squared_error(Sobol_original[0], Benchmark)\n",
        "r2 = metrics.r2_score(Sobol_original[0], Benchmark)"
      ]
    },
    {
      "cell_type": "code",
      "execution_count": null,
      "metadata": {
        "colab": {
          "base_uri": "https://localhost:8080/"
        },
        "id": "tDZ-C2aMCYiU",
        "outputId": "10c2bf23-94e8-46ff-84a9-6179615e0bd3"
      },
      "outputs": [
        {
          "name": "stdout",
          "output_type": "stream",
          "text": [
            "Results of sklearn.metrics:\n",
            "MAE: 2.038330735384511\n",
            "MSE: 10.282270204345323\n",
            "R-Squared: 0.7944119806224363\n"
          ]
        }
      ],
      "source": [
        "print(\"Results of sklearn.metrics:\")\n",
        "print(\"MAE:\",mae)\n",
        "print(\"MSE:\", mse)\n",
        "print(\"R-Squared:\", r2)"
      ]
    },
    {
      "cell_type": "markdown",
      "metadata": {
        "id": "YCUu2nukCawy"
      },
      "source": [
        "### Sobol Scrambled"
      ]
    },
    {
      "cell_type": "code",
      "execution_count": null,
      "metadata": {
        "id": "-leBB8muCdXv"
      },
      "outputs": [],
      "source": [
        "mae = metrics.mean_absolute_error(Sobol_scramble[0], Benchmark)\n",
        "mse = metrics.mean_squared_error(Sobol_scramble[0], Benchmark)\n",
        "r2 = metrics.r2_score(Sobol_scramble[0], Benchmark)"
      ]
    },
    {
      "cell_type": "code",
      "execution_count": null,
      "metadata": {
        "colab": {
          "base_uri": "https://localhost:8080/"
        },
        "id": "Pb3qw7JQCeM6",
        "outputId": "29ee88ab-2340-4106-ecbc-8ac0ef843291"
      },
      "outputs": [
        {
          "name": "stdout",
          "output_type": "stream",
          "text": [
            "Results of sklearn.metrics:\n",
            "MAE: 2.6349136283461583\n",
            "MSE: 14.258619569954524\n",
            "R-Squared: 0.683253428929731\n"
          ]
        }
      ],
      "source": [
        "print(\"Results of sklearn.metrics:\")\n",
        "print(\"MAE:\",mae)\n",
        "print(\"MSE:\", mse)\n",
        "print(\"R-Squared:\", r2)"
      ]
    },
    {
      "cell_type": "markdown",
      "metadata": {
        "id": "iIk1MATB83Ts"
      },
      "source": [
        "# ANN"
      ]
    },
    {
      "cell_type": "code",
      "execution_count": null,
      "metadata": {
        "id": "Fw992YNe8YNB"
      },
      "outputs": [],
      "source": [
        "def number_of_layers_neurons(Layers, Neurons, activate, patience):\n",
        "  #make model a global variable so we can call it outside the function\n",
        "  global model, history\n",
        "\n",
        "  #build the model given a number of layers using keras from tensorflow\n",
        "  if Layers == 2:\n",
        "    model = keras.models.Sequential([\n",
        "    #Hidden layer 1\n",
        "    keras.layers.Dense(Neurons, activation=activate, input_shape=X_train.shape[1:]),\n",
        "    #Hidden layer 2\n",
        "    keras.layers.Dense(Neurons, activation=activate),\n",
        "    #Output layer\n",
        "    keras.layers.Dense(1)\n",
        "    ])\n",
        "\n",
        "  elif Layers == 3:\n",
        "    model = keras.models.Sequential([\n",
        "    #Hidden layer 1\n",
        "    keras.layers.Dense(Neurons, activation=activate, input_shape=X_train.shape[1:]),\n",
        "    #Hidden layer 2\n",
        "    keras.layers.Dense(Neurons, activation=activate),\n",
        "    #Hidden layer 3\n",
        "    keras.layers.Dense(Neurons, activation=activate),\n",
        "    #Output layer\n",
        "    keras.layers.Dense(1)\n",
        "    ])\n",
        "  elif Layers == 4:\n",
        "    model = keras.models.Sequential([\n",
        "    #Hidden layer 1\n",
        "    keras.layers.Dense(Neurons, activation=activate, input_shape=X_train.shape[1:]),\n",
        "    #Hidden layer 2\n",
        "    keras.layers.Dense(Neurons, activation=activate),\n",
        "    #Hidden layer 3\n",
        "    keras.layers.Dense(Neurons, activation=activate),\n",
        "    #Hidden layer 4\n",
        "    keras.layers.Dense(Neurons, activation=activate),\n",
        "    #Output layer\n",
        "    keras.layers.Dense(1)\n",
        "    ])\n",
        "  elif Layers == 5:\n",
        "    model = keras.models.Sequential([\n",
        "    #Hidden layer 1\n",
        "    keras.layers.Dense(Neurons, activation=activate, input_shape=X_train.shape[1:]),\n",
        "    #Hidden layer 2\n",
        "    keras.layers.Dense(Neurons, activation=activate),\n",
        "    #Hidden layer 3\n",
        "    keras.layers.Dense(Neurons, activation=activate),\n",
        "    #Hidden layer 4\n",
        "    keras.layers.Dense(Neurons, activation=activate),\n",
        "    #Hidden layer 5\n",
        "    keras.layers.Dense(Neurons, activation=activate),\n",
        "    #Output layer\n",
        "    keras.layers.Dense(1)\n",
        "    ])\n",
        "  else:\n",
        "    print(\"Invalid amount of Layers! Choose 1-5\")\n",
        "    return\n",
        "\n",
        "  #compile the model\n",
        "  model.compile(loss=\"mean_squared_error\",optimizer=\"adam\",metrics = tfa.metrics.r_square.RSquare())\n",
        "\n",
        "  #Stop training if cost function (val_loss) using cross validation data fails to decrease.\n",
        "  callbacks_list = EarlyStopping(monitor = 'val_loss', patience = patience)\n",
        "\n",
        "  #train the model\n",
        "  history = model.fit(X_train, y_train, epochs=200,\n",
        "                      validation_data=(X_valid, y_valid),\n",
        "                      verbose = 2,callbacks=[callbacks_list]\n",
        "                      )"
      ]
    },
    {
      "cell_type": "code",
      "execution_count": null,
      "metadata": {
        "colab": {
          "base_uri": "https://localhost:8080/"
        },
        "id": "HZVUa6NDzKml",
        "outputId": "982d2e1c-ac4c-4064-9ca1-d3559ea34451"
      },
      "outputs": [
        {
          "output_type": "stream",
          "name": "stdout",
          "text": [
            "(700000, 6) (700000, 1)\n",
            "(200000, 6) (200000, 1)\n",
            "(100000, 6) (100000, 1)\n",
            "Epoch 1/200\n",
            "21875/21875 - 42s - loss: 0.3773 - r_square: 0.9906 - val_loss: 0.0030 - val_r_square: 0.9999 - 42s/epoch - 2ms/step\n",
            "Epoch 2/200\n",
            "21875/21875 - 43s - loss: 0.0027 - r_square: 0.9999 - val_loss: 0.0021 - val_r_square: 0.9999 - 43s/epoch - 2ms/step\n",
            "Epoch 3/200\n",
            "21875/21875 - 44s - loss: 0.0020 - r_square: 0.9999 - val_loss: 0.0017 - val_r_square: 1.0000 - 44s/epoch - 2ms/step\n",
            "Epoch 4/200\n",
            "21875/21875 - 40s - loss: 0.0017 - r_square: 1.0000 - val_loss: 0.0012 - val_r_square: 1.0000 - 40s/epoch - 2ms/step\n",
            "Epoch 5/200\n",
            "21875/21875 - 42s - loss: 0.0015 - r_square: 1.0000 - val_loss: 6.1811e-04 - val_r_square: 1.0000 - 42s/epoch - 2ms/step\n",
            "Epoch 6/200\n",
            "21875/21875 - 43s - loss: 0.0014 - r_square: 1.0000 - val_loss: 0.0015 - val_r_square: 1.0000 - 43s/epoch - 2ms/step\n",
            "Epoch 7/200\n",
            "21875/21875 - 38s - loss: 0.0012 - r_square: 1.0000 - val_loss: 7.0571e-04 - val_r_square: 1.0000 - 38s/epoch - 2ms/step\n",
            "Epoch 8/200\n",
            "21875/21875 - 42s - loss: 0.0011 - r_square: 1.0000 - val_loss: 0.0022 - val_r_square: 0.9999 - 42s/epoch - 2ms/step\n",
            "Epoch 9/200\n",
            "21875/21875 - 39s - loss: 0.0011 - r_square: 1.0000 - val_loss: 0.0010 - val_r_square: 1.0000 - 39s/epoch - 2ms/step\n",
            "Epoch 10/200\n",
            "21875/21875 - 44s - loss: 9.8002e-04 - r_square: 1.0000 - val_loss: 6.1322e-04 - val_r_square: 1.0000 - 44s/epoch - 2ms/step\n",
            "Epoch 11/200\n",
            "21875/21875 - 42s - loss: 9.1628e-04 - r_square: 1.0000 - val_loss: 5.3189e-04 - val_r_square: 1.0000 - 42s/epoch - 2ms/step\n",
            "Epoch 12/200\n",
            "21875/21875 - 43s - loss: 9.0221e-04 - r_square: 1.0000 - val_loss: 0.0011 - val_r_square: 1.0000 - 43s/epoch - 2ms/step\n",
            "Epoch 13/200\n",
            "21875/21875 - 42s - loss: 8.1729e-04 - r_square: 1.0000 - val_loss: 0.0018 - val_r_square: 1.0000 - 42s/epoch - 2ms/step\n",
            "Epoch 14/200\n",
            "21875/21875 - 42s - loss: 8.0267e-04 - r_square: 1.0000 - val_loss: 0.0011 - val_r_square: 1.0000 - 42s/epoch - 2ms/step\n",
            "Epoch 15/200\n",
            "21875/21875 - 42s - loss: 7.7115e-04 - r_square: 1.0000 - val_loss: 0.0011 - val_r_square: 1.0000 - 42s/epoch - 2ms/step\n",
            "Epoch 16/200\n",
            "21875/21875 - 40s - loss: 7.4343e-04 - r_square: 1.0000 - val_loss: 5.6171e-04 - val_r_square: 1.0000 - 40s/epoch - 2ms/step\n",
            "3125/3125 [==============================] - 5s 2ms/step - loss: 5.5550e-04 - r_square: 1.0000\n",
            "CPU times: user 17min 2s, sys: 1min 1s, total: 18min 4s\n",
            "Wall time: 15min 32s\n"
          ]
        },
        {
          "output_type": "execute_result",
          "data": {
            "text/plain": [
              "[0.0005554996314458549, 0.9999861717224121]"
            ]
          },
          "metadata": {},
          "execution_count": 143
        }
      ],
      "source": [
        "%%time\n",
        "#Generate option prices for all the random option values\n",
        "\n",
        "\n",
        "#N: number of random options\n",
        "N = 1000000\n",
        "\n",
        "#Make the same random numbers every time using seed\n",
        "random.seed(42)\n",
        "\n",
        "#initial stock prices (uniform distribution)\n",
        "S = np.random.uniform(70,120,N)\n",
        "\n",
        "#Time maturity 7 day to 365 days (converted to year)\n",
        "T = np.random.randint(1,250, N) / 250\n",
        "\n",
        "#Strike Price\n",
        "K = np.random.randint(80,120,N)/ 100 * S\n",
        "\n",
        "#Time remaining untill maturity\n",
        "#for k in range(0,N):\n",
        "  #T2 = np.random.randint(1,T[k]*365) / 365\n",
        "  #T_2.append(T2)\n",
        "\n",
        "#Risk free rate (0.01 to 0.05)\n",
        "r = np.random.randint(100, 500, N) / 10000\n",
        "\n",
        "#volatility (5% to 50%)\n",
        "sigma = np.random.randint(5, 50, N) / 100\n",
        "\n",
        "#average stock prices untill (T-T_2)\n",
        "dT = 1/250\n",
        "#A = np.random.uniform(20,200,N)\n",
        "A = lognorm(0.164, loc = -18.376, scale = 112.610).rvs(size=N)\n",
        "\n",
        "\n",
        "Asian_Levy = pd.DataFrame({'S': S,\n",
        "                              'K': K,\n",
        "                              'A': A,\n",
        "                              'T': T,\n",
        "                              'r': r,\n",
        "                              'sigma': sigma,\n",
        "                              'C Asia' : [bsm_call_asia(S[i], K[i], A[i], T[i], T[i], r[i], sigma[i]) for i in range (N)]\n",
        "                              })\n",
        "\n",
        "#For us to use the Sklearn model \"train_test_split\" we need to make a dataframe into a numpy array\n",
        "call_levy = Asian_Levy.values\n",
        "\n",
        "#First split the input variable and output variable from each other\n",
        "#input values\n",
        "X = call_levy[:, :6]\n",
        "#output values\n",
        "y = call_levy[:, 6:7]\n",
        "\n",
        "# 70% for training, 10% for testing and 20% for validating\n",
        "X_train, X_valid, y_train, y_valid = train_test_split(X, y, test_size=0.20, random_state=42)\n",
        "X_train, X_test, y_train, y_test = train_test_split(X_train, y_train, test_size=0.125, random_state=42) # 0.125 x 0.8 = 0.1\n",
        "\n",
        "# Before standardize we want to store X_test[0] and y_test[0] value\n",
        "input_test = X_test[0]\n",
        "output_test = y_test[0]\n",
        "\n",
        "#We standardize our data using sklearn.preprocessing\n",
        "scaler = StandardScaler()\n",
        "X_train = scaler.fit_transform(X_train)\n",
        "X_valid = scaler.transform(X_valid)\n",
        "X_test = scaler.transform(X_test)\n",
        "\n",
        "print(X_train.shape, y_train.shape)\n",
        "print(X_valid.shape, y_valid.shape)\n",
        "print(X_test.shape, y_test.shape)\n",
        "\n",
        "layers = 2\n",
        "neurons = 50\n",
        "number_of_layers_neurons(Layers=layers, Neurons=neurons, activate='ReLU',patience=5)\n",
        "\n",
        "model.evaluate(X_test,y_test)"
      ]
    },
    {
      "cell_type": "code",
      "execution_count": null,
      "metadata": {
        "colab": {
          "base_uri": "https://localhost:8080/"
        },
        "id": "DVMTYsb9frkq",
        "outputId": "a6a8ddd3-2db5-458c-e1ba-adb031fb270c"
      },
      "outputs": [
        {
          "name": "stdout",
          "output_type": "stream",
          "text": [
            "Model: \"sequential\"\n",
            "_________________________________________________________________\n",
            " Layer (type)                Output Shape              Param #   \n",
            "=================================================================\n",
            " dense (Dense)               (None, 50)                400       \n",
            "                                                                 \n",
            " dense_1 (Dense)             (None, 50)                2550      \n",
            "                                                                 \n",
            " dense_2 (Dense)             (None, 1)                 51        \n",
            "                                                                 \n",
            "=================================================================\n",
            "Total params: 3,001\n",
            "Trainable params: 3,001\n",
            "Non-trainable params: 0\n",
            "_________________________________________________________________\n"
          ]
        }
      ],
      "source": [
        "#If you want to check that it indeed does have the descired amount of layers and neurons\n",
        "model.summary()"
      ]
    },
    {
      "cell_type": "code",
      "execution_count": null,
      "metadata": {
        "colab": {
          "base_uri": "https://localhost:8080/",
          "height": 370
        },
        "id": "0nbr-mi2f5ve",
        "outputId": "4c2306ad-ae32-4d48-f1b3-0753bc5c619f"
      },
      "outputs": [
        {
          "data": {
            "image/png": "[encoded data removed]",
            "text/plain": [
              "<Figure size 576x360 with 1 Axes>"
            ]
          },
          "metadata": {},
          "output_type": "display_data"
        }
      ],
      "source": [
        "def plot():\n",
        "  pd.DataFrame(history.history).plot(figsize=(8,5))\n",
        "  plt.grid(True)\n",
        "  plt.xlabel('Jumlah Epoch')\n",
        "  plt.ylabel('Fungsi Loss')\n",
        "  plt.suptitle('MSE dari Neural Network', fontsize=20)\n",
        "  plt.title('Layers: {}, Neurons: {}'.format(layers,neurons))\n",
        "  plt.legend(loc=\"upper right\", fontsize=12)\n",
        "  #plt.axis([0, 100, 0, 25])\n",
        "  plt.show()\n",
        "\n",
        "plot()"
      ]
    },
    {
      "cell_type": "markdown",
      "metadata": {
        "id": "4C8w3hB935jY"
      },
      "source": [
        "## Model Prediction"
      ]
    },
    {
      "cell_type": "code",
      "execution_count": null,
      "metadata": {
        "id": "0ZPLpNSfjqlU"
      },
      "outputs": [],
      "source": [
        "N = 100\n",
        "S = np.random.uniform(70,120,N)\n",
        "T = np.random.randint(1,250, N) / 250\n",
        "K = np.random.randint(80,120,N)/ 100 * S\n",
        "T_2 = T\n",
        "r = np.random.randint(100, 500, N) / 10000\n",
        "sigma = np.random.randint(5, 50, N) / 100\n",
        "A = lognorm(0.164, loc = -18.376, scale = 112.610).rvs(size=N)"
      ]
    },
    {
      "cell_type": "code",
      "execution_count": null,
      "metadata": {
        "id": "G0RwLQ7tlmXs"
      },
      "outputs": [],
      "source": [
        "x_predict = [ [ S[i],K[i],A[i],T[i],T_2[i],r[i],sigma[i] ] for i in range(N) ]"
      ]
    },
    {
      "cell_type": "code",
      "execution_count": null,
      "metadata": {
        "id": "25enc6NIkdZt"
      },
      "outputs": [],
      "source": [
        "x_predict = scaler.fit_transform(x_predict)"
      ]
    },
    {
      "cell_type": "code",
      "execution_count": null,
      "metadata": {
        "colab": {
          "base_uri": "https://localhost:8080/"
        },
        "id": "v6PgGEzxj6UM",
        "outputId": "feb90770-908e-454f-e814-83b6eef1b53c"
      },
      "outputs": [
        {
          "name": "stdout",
          "output_type": "stream",
          "text": [
            "4/4 [==============================] - 0s 3ms/step\n",
            "CPU times: user 75.6 ms, sys: 1.87 ms, total: 77.5 ms\n",
            "Wall time: 89.4 ms\n"
          ]
        },
        {
          "data": {
            "text/plain": [
              "array([[ 7.110676  ],\n",
              "       [13.95845   ],\n",
              "       [13.540936  ],\n",
              "       [ 4.795855  ],\n",
              "       [14.263575  ],\n",
              "       [ 7.4723516 ],\n",
              "       [ 8.8687315 ],\n",
              "       [12.748273  ],\n",
              "       [ 9.778328  ],\n",
              "       [ 1.2761683 ],\n",
              "       [11.620373  ],\n",
              "       [ 9.89123   ],\n",
              "       [11.489904  ],\n",
              "       [ 9.449592  ],\n",
              "       [ 8.128051  ],\n",
              "       [ 7.1984286 ],\n",
              "       [ 0.24876662],\n",
              "       [ 0.03817879],\n",
              "       [16.191315  ],\n",
              "       [ 8.055236  ],\n",
              "       [10.236477  ],\n",
              "       [21.299551  ],\n",
              "       [ 2.8071852 ],\n",
              "       [ 2.670404  ],\n",
              "       [ 8.138766  ],\n",
              "       [ 3.1905315 ],\n",
              "       [11.989197  ],\n",
              "       [ 5.553753  ],\n",
              "       [ 8.342406  ],\n",
              "       [20.918283  ],\n",
              "       [11.662886  ],\n",
              "       [ 2.1324854 ],\n",
              "       [15.886203  ],\n",
              "       [12.478961  ],\n",
              "       [ 2.0614626 ],\n",
              "       [ 6.2064147 ],\n",
              "       [ 1.1498288 ],\n",
              "       [21.718346  ],\n",
              "       [ 2.2527218 ],\n",
              "       [ 7.9564514 ],\n",
              "       [ 1.5479356 ],\n",
              "       [ 1.6665245 ],\n",
              "       [ 3.2366998 ],\n",
              "       [ 1.1437914 ],\n",
              "       [ 7.885689  ],\n",
              "       [21.643064  ],\n",
              "       [ 1.887305  ],\n",
              "       [ 4.705314  ],\n",
              "       [ 5.077707  ],\n",
              "       [17.687773  ],\n",
              "       [ 9.799391  ],\n",
              "       [ 2.2371914 ],\n",
              "       [12.256464  ],\n",
              "       [ 4.4522448 ],\n",
              "       [ 4.1884184 ],\n",
              "       [ 3.9741383 ],\n",
              "       [ 3.661173  ],\n",
              "       [13.5098295 ],\n",
              "       [10.073885  ],\n",
              "       [ 3.628158  ],\n",
              "       [ 4.0062733 ],\n",
              "       [ 6.182666  ],\n",
              "       [ 6.4152474 ],\n",
              "       [ 2.326478  ],\n",
              "       [ 7.3150983 ],\n",
              "       [ 3.2844098 ],\n",
              "       [ 9.6095915 ],\n",
              "       [11.057012  ],\n",
              "       [ 7.131148  ],\n",
              "       [11.889364  ],\n",
              "       [ 1.5761621 ],\n",
              "       [ 0.51587296],\n",
              "       [20.992552  ],\n",
              "       [12.376413  ],\n",
              "       [ 2.8878622 ],\n",
              "       [ 6.603792  ],\n",
              "       [ 1.3678848 ],\n",
              "       [ 3.422733  ],\n",
              "       [ 5.1863136 ],\n",
              "       [ 4.866296  ],\n",
              "       [ 2.4572854 ],\n",
              "       [ 2.954349  ],\n",
              "       [15.585755  ],\n",
              "       [15.643499  ],\n",
              "       [ 6.1986637 ],\n",
              "       [12.157292  ],\n",
              "       [ 0.7595045 ],\n",
              "       [13.228993  ],\n",
              "       [11.823034  ],\n",
              "       [ 5.5896726 ],\n",
              "       [10.470528  ],\n",
              "       [12.443341  ],\n",
              "       [ 4.146402  ],\n",
              "       [10.393692  ],\n",
              "       [ 4.8305945 ],\n",
              "       [ 7.004435  ],\n",
              "       [ 8.602817  ],\n",
              "       [10.0532255 ],\n",
              "       [15.70475   ],\n",
              "       [ 7.4311433 ]], dtype=float32)"
            ]
          },
          "execution_count": 97,
          "metadata": {},
          "output_type": "execute_result"
        }
      ],
      "source": [
        "%%time\n",
        "model.predict(x_predict)"
      ]
    },
    {
      "cell_type": "code",
      "execution_count": null,
      "metadata": {
        "colab": {
          "base_uri": "https://localhost:8080/",
          "height": 556
        },
        "id": "ExXwV-wRKBPi",
        "outputId": "d3e7c5f0-5f79-4dbf-ca1e-5841c5c3e7a1"
      },
      "outputs": [
        {
          "name": "stderr",
          "output_type": "stream",
          "text": [
            "/usr/local/lib/python3.7/dist-packages/seaborn/distributions.py:2619: FutureWarning: `distplot` is a deprecated function and will be removed in a future version. Please adapt your code to use either `displot` (a figure-level function with similar flexibility) or `histplot` (an axes-level function for histograms).\n",
            "  warnings.warn(msg, FutureWarning)\n"
          ]
        },
        {
          "data": {
            "image/png": "[encoded data removed]",
            "text/plain": [
              "<Figure size 576x576 with 1 Axes>"
            ]
          },
          "metadata": {},
          "output_type": "display_data"
        }
      ],
      "source": [
        "plt.figure(figsize = (8,8))\n",
        "plt.title('CA',fontsize = 16)\n",
        "sns.distplot(Benchmark, hist=True, kde=False,\n",
        "             bins=int(60), color = 'salmon',\n",
        "             hist_kws={'edgecolor':'black'});\n",
        "\n",
        "plt.show()"
      ]
    },
    {
      "cell_type": "markdown",
      "metadata": {
        "id": "X0Q6TkbkAelH"
      },
      "source": [
        "# Save ANN Model"
      ]
    },
    {
      "cell_type": "code",
      "execution_count": null,
      "metadata": {
        "id": "MMXDOmzLAeG4"
      },
      "outputs": [],
      "source": [
        "from tensorflow.keras.models import Sequential, model_from_json"
      ]
    },
    {
      "cell_type": "code",
      "execution_count": null,
      "metadata": {
        "id": "cIscslr-Aj99",
        "colab": {
          "base_uri": "https://localhost:8080/"
        },
        "outputId": "4fced075-745c-4dcc-954f-987ee7eddb60"
      },
      "outputs": [
        {
          "output_type": "stream",
          "name": "stdout",
          "text": [
            "Saved model to disk\n"
          ]
        }
      ],
      "source": [
        "# serialize model to JSON\n",
        "model_json = model.to_json()\n",
        "with open(\"ann_model.json\", \"w\") as json_file:\n",
        "    json_file.write(model_json)\n",
        "# serialize weights to HDF5\n",
        "model.save_weights(\"model_weightandbias.h5\")\n",
        "print(\"Saved model to disk\")\n",
        "\n",
        "# later...\n",
        "\n"
      ]
    },
    {
      "cell_type": "code",
      "execution_count": null,
      "metadata": {
        "colab": {
          "base_uri": "https://localhost:8080/"
        },
        "id": "qG85PZxyF6n7",
        "outputId": "38819567-b853-4066-a8f2-695e35d83a42"
      },
      "outputs": [
        {
          "output_type": "stream",
          "name": "stdout",
          "text": [
            "Loaded model from disk\n"
          ]
        }
      ],
      "source": [
        "# load json and create model\n",
        "json_file = open('ann_model.json', 'r')\n",
        "loaded_model_json = json_file.read()\n",
        "json_file.close()\n",
        "loaded_model = model_from_json(loaded_model_json)\n",
        "# load weights into new model\n",
        "loaded_model.load_weights(\"model_weightandbias.h5\")\n",
        "print(\"Loaded model from disk\")\n",
        "\n",
        "# Input : S, St, r, T, sigma, A ; Output : C Asia\n",
        "# evaluate loaded model on test data\n",
        "loaded_model.compile(loss=\"mean_squared_error\",optimizer=\"adam\",metrics = tfa.metrics.r_square.RSquare())\n",
        "\n",
        "#print(\"%s: %.2f%%\" % (loaded_model.metrics_names[1], score[1]*100))"
      ]
    },
    {
      "cell_type": "code",
      "execution_count": null,
      "metadata": {
        "colab": {
          "base_uri": "https://localhost:8080/"
        },
        "id": "hvTGfE_GG8bp",
        "outputId": "f285686d-1b3f-481e-8feb-dd064d0df50a"
      },
      "outputs": [
        {
          "output_type": "execute_result",
          "data": {
            "text/plain": [
              "1.6639475717118088"
            ]
          },
          "metadata": {},
          "execution_count": 83
        }
      ],
      "source": [
        "bsm_call_asia(S,K,A,T,T,r,sigma)"
      ]
    },
    {
      "cell_type": "code",
      "source": [
        "S_p= 105\n",
        "K_p = 115\n",
        "A_p = 120\n",
        "T_p = 0.252\n",
        "r_p = 0.03\n",
        "sigma_p = 0.4\n",
        "dT = 1/250"
      ],
      "metadata": {
        "id": "lwAD5Ws6Jo13"
      },
      "execution_count": null,
      "outputs": []
    },
    {
      "cell_type": "code",
      "source": [
        "scaler = StandardScaler()"
      ],
      "metadata": {
        "id": "aDMLc8ChJ5dW"
      },
      "execution_count": null,
      "outputs": []
    },
    {
      "cell_type": "code",
      "source": [
        "x_predict = [[S_p,K_p,A_p,T_p,r_p,sigma_p]]\n",
        "x_predict"
      ],
      "metadata": {
        "id": "26_d9z1pJ0uU"
      },
      "execution_count": null,
      "outputs": []
    },
    {
      "cell_type": "code",
      "source": [
        "x_predict = scaler.transform(x_predict)\n",
        "x_predict"
      ],
      "metadata": {
        "colab": {
          "base_uri": "https://localhost:8080/"
        },
        "id": "UqT3KbASJoSt",
        "outputId": "cb65dc0c-a7c2-478a-de1c-d723e055151c"
      },
      "execution_count": null,
      "outputs": [
        {
          "output_type": "error",
          "ename": "ValueError",
          "evalue": "ignored",
          "traceback": [
            "\u001b[0;31m---------------------------------------------------------------------------\u001b[0m",
            "\u001b[0;31mValueError\u001b[0m                                Traceback (most recent call last)",
            "\u001b[0;32m<ipython-input-145-708ea4c5fc1c>\u001b[0m in \u001b[0;36m<module>\u001b[0;34m\u001b[0m\n\u001b[0;32m----> 1\u001b[0;31m \u001b[0mx_predict\u001b[0m \u001b[0;34m=\u001b[0m \u001b[0mscaler\u001b[0m\u001b[0;34m.\u001b[0m\u001b[0mtransform\u001b[0m\u001b[0;34m(\u001b[0m\u001b[0mx_predict\u001b[0m\u001b[0;34m)\u001b[0m\u001b[0;34m\u001b[0m\u001b[0;34m\u001b[0m\u001b[0m\n\u001b[0m\u001b[1;32m      2\u001b[0m \u001b[0mx_predict\u001b[0m\u001b[0;34m\u001b[0m\u001b[0;34m\u001b[0m\u001b[0m\n",
            "\u001b[0;32m/usr/local/lib/python3.8/dist-packages/sklearn/preprocessing/_data.py\u001b[0m in \u001b[0;36mtransform\u001b[0;34m(self, X, copy)\u001b[0m\n\u001b[1;32m    971\u001b[0m \u001b[0;34m\u001b[0m\u001b[0m\n\u001b[1;32m    972\u001b[0m         \u001b[0mcopy\u001b[0m \u001b[0;34m=\u001b[0m \u001b[0mcopy\u001b[0m \u001b[0;32mif\u001b[0m \u001b[0mcopy\u001b[0m \u001b[0;32mis\u001b[0m \u001b[0;32mnot\u001b[0m \u001b[0;32mNone\u001b[0m \u001b[0;32melse\u001b[0m \u001b[0mself\u001b[0m\u001b[0;34m.\u001b[0m\u001b[0mcopy\u001b[0m\u001b[0;34m\u001b[0m\u001b[0;34m\u001b[0m\u001b[0m\n\u001b[0;32m--> 973\u001b[0;31m         X = self._validate_data(\n\u001b[0m\u001b[1;32m    974\u001b[0m             \u001b[0mX\u001b[0m\u001b[0;34m,\u001b[0m\u001b[0;34m\u001b[0m\u001b[0;34m\u001b[0m\u001b[0m\n\u001b[1;32m    975\u001b[0m             \u001b[0mreset\u001b[0m\u001b[0;34m=\u001b[0m\u001b[0;32mFalse\u001b[0m\u001b[0;34m,\u001b[0m\u001b[0;34m\u001b[0m\u001b[0;34m\u001b[0m\u001b[0m\n",
            "\u001b[0;32m/usr/local/lib/python3.8/dist-packages/sklearn/base.py\u001b[0m in \u001b[0;36m_validate_data\u001b[0;34m(self, X, y, reset, validate_separately, **check_params)\u001b[0m\n\u001b[1;32m    564\u001b[0m             \u001b[0;32mraise\u001b[0m \u001b[0mValueError\u001b[0m\u001b[0;34m(\u001b[0m\u001b[0;34m\"Validation should be done on X, y or both.\"\u001b[0m\u001b[0;34m)\u001b[0m\u001b[0;34m\u001b[0m\u001b[0;34m\u001b[0m\u001b[0m\n\u001b[1;32m    565\u001b[0m         \u001b[0;32melif\u001b[0m \u001b[0;32mnot\u001b[0m \u001b[0mno_val_X\u001b[0m \u001b[0;32mand\u001b[0m \u001b[0mno_val_y\u001b[0m\u001b[0;34m:\u001b[0m\u001b[0;34m\u001b[0m\u001b[0;34m\u001b[0m\u001b[0m\n\u001b[0;32m--> 566\u001b[0;31m             \u001b[0mX\u001b[0m \u001b[0;34m=\u001b[0m \u001b[0mcheck_array\u001b[0m\u001b[0;34m(\u001b[0m\u001b[0mX\u001b[0m\u001b[0;34m,\u001b[0m \u001b[0;34m**\u001b[0m\u001b[0mcheck_params\u001b[0m\u001b[0;34m)\u001b[0m\u001b[0;34m\u001b[0m\u001b[0;34m\u001b[0m\u001b[0m\n\u001b[0m\u001b[1;32m    567\u001b[0m             \u001b[0mout\u001b[0m \u001b[0;34m=\u001b[0m \u001b[0mX\u001b[0m\u001b[0;34m\u001b[0m\u001b[0;34m\u001b[0m\u001b[0m\n\u001b[1;32m    568\u001b[0m         \u001b[0;32melif\u001b[0m \u001b[0mno_val_X\u001b[0m \u001b[0;32mand\u001b[0m \u001b[0;32mnot\u001b[0m \u001b[0mno_val_y\u001b[0m\u001b[0;34m:\u001b[0m\u001b[0;34m\u001b[0m\u001b[0;34m\u001b[0m\u001b[0m\n",
            "\u001b[0;32m/usr/local/lib/python3.8/dist-packages/sklearn/utils/validation.py\u001b[0m in \u001b[0;36mcheck_array\u001b[0;34m(array, accept_sparse, accept_large_sparse, dtype, order, copy, force_all_finite, ensure_2d, allow_nd, ensure_min_samples, ensure_min_features, estimator)\u001b[0m\n\u001b[1;32m    767\u001b[0m             \u001b[0;31m# If input is 1D raise error\u001b[0m\u001b[0;34m\u001b[0m\u001b[0;34m\u001b[0m\u001b[0;34m\u001b[0m\u001b[0m\n\u001b[1;32m    768\u001b[0m             \u001b[0;32mif\u001b[0m \u001b[0marray\u001b[0m\u001b[0;34m.\u001b[0m\u001b[0mndim\u001b[0m \u001b[0;34m==\u001b[0m \u001b[0;36m1\u001b[0m\u001b[0;34m:\u001b[0m\u001b[0;34m\u001b[0m\u001b[0;34m\u001b[0m\u001b[0m\n\u001b[0;32m--> 769\u001b[0;31m                 raise ValueError(\n\u001b[0m\u001b[1;32m    770\u001b[0m                     \u001b[0;34m\"Expected 2D array, got 1D array instead:\\narray={}.\\n\"\u001b[0m\u001b[0;34m\u001b[0m\u001b[0;34m\u001b[0m\u001b[0m\n\u001b[1;32m    771\u001b[0m                     \u001b[0;34m\"Reshape your data either using array.reshape(-1, 1) if \"\u001b[0m\u001b[0;34m\u001b[0m\u001b[0;34m\u001b[0m\u001b[0m\n",
            "\u001b[0;31mValueError\u001b[0m: Expected 2D array, got 1D array instead:\narray=[1.05e+02 1.15e+02 1.20e+02 2.52e-01 3.00e-02 4.00e-01].\nReshape your data either using array.reshape(-1, 1) if your data has a single feature or array.reshape(1, -1) if it contains a single sample."
          ]
        }
      ]
    },
    {
      "cell_type": "code",
      "source": [
        "loaded_model.predict(x_predict)"
      ],
      "metadata": {
        "id": "8dyEffeZKA4k"
      },
      "execution_count": null,
      "outputs": []
    },
    {
      "cell_type": "code",
      "execution_count": null,
      "metadata": {
        "colab": {
          "base_uri": "https://localhost:8080/"
        },
        "id": "zSu2X9BdHsP0",
        "outputId": "bf81031f-d20b-436e-9a0e-1c7df76b067c"
      },
      "outputs": [
        {
          "name": "stdout",
          "output_type": "stream",
          "text": [
            "1/1 [==============================] - 0s 60ms/step - loss: 267.5749 - r_square: 0.0000e+00\n",
            "[267.5748596191406, 0.0]\n"
          ]
        }
      ],
      "source": [
        "score = loaded_model.evaluate([[100,100,0.03,90/365,0.3,100]], [[0]])\n",
        "print(score)"
      ]
    },
    {
      "cell_type": "code",
      "execution_count": null,
      "metadata": {
        "colab": {
          "base_uri": "https://localhost:8080/"
        },
        "id": "-sOtgFtMINdw",
        "outputId": "36ce26e6-9990-46e7-bd39-e0a08a8288aa"
      },
      "outputs": [
        {
          "name": "stdout",
          "output_type": "stream",
          "text": [
            "1/1 [==============================] - 0s 50ms/step - loss: 532.6762 - r_square: 0.0000e+00\n",
            "[532.6762084960938, 0.0]\n"
          ]
        }
      ],
      "source": [
        "score = loaded_model.evaluate([[94.4314,\t94.7366,\t0.0138,\t0.1808,\t0.15,\t94.1644]],\t[[0.5708238330376794]])\n",
        "print(score)"
      ]
    },
    {
      "cell_type": "code",
      "source": [
        "import tkinter as tk\n",
        "print(tk.TkVersion)\n"
      ],
      "metadata": {
        "colab": {
          "base_uri": "https://localhost:8080/"
        },
        "id": "duhVwcda-Bjv",
        "outputId": "f12a2012-e655-48f1-d883-67a757a43915"
      },
      "execution_count": null,
      "outputs": [
        {
          "output_type": "stream",
          "name": "stdout",
          "text": [
            "8.6\n"
          ]
        }
      ]
    },
    {
      "cell_type": "code",
      "source": [
        "import tkinter as tk\n",
        "\n",
        "class Calculator:\n",
        "    def __init__(self, master):\n",
        "        self.master = master\n",
        "        master.title(\"Calculator\")\n",
        "\n",
        "        # Create the input field\n",
        "        self.display = tk.Entry(master, width=25, justify=\"right\", font=(\"Arial\", 16))\n",
        "        self.display.grid(row=0, column=0, columnspan=4, padx=10, pady=10)\n",
        "\n",
        "        # Create the buttons\n",
        "        self.create_button(\"7\", 1, 0)\n",
        "        self.create_button(\"8\", 1, 1)\n",
        "        self.create_button(\"9\", 1, 2)\n",
        "        self.create_button(\"/\", 1, 3)\n",
        "\n",
        "        self.create_button(\"4\", 2, 0)\n",
        "        self.create_button(\"5\", 2, 1)\n",
        "        self.create_button(\"6\", 2, 2)\n",
        "        self.create_button(\"*\", 2, 3)\n",
        "\n",
        "        self.create_button(\"1\", 3, 0)\n",
        "        self.create_button(\"2\", 3, 1)\n",
        "        self.create_button(\"3\", 3, 2)\n",
        "        self.create_button(\"-\", 3, 3)\n",
        "\n",
        "        self.create_button(\"0\", 4, 0)\n",
        "        self.create_button(\".\", 4, 1)\n",
        "        self.create_button(\"C\", 4, 2)\n",
        "        self.create_button(\"+\", 4, 3)\n",
        "\n",
        "        self.create_button(\"=\", 5, 0, columnspan=4)\n",
        "\n",
        "    def create_button(self, text, row, column, columnspan=1):\n",
        "        button = tk.Button(self.master, text=text, width=5, height=2, font=(\"Arial\", 16),\n",
        "                           command=lambda: self.button_click(text))\n",
        "        button.grid(row=row, column=column, columnspan=columnspan, padx=5, pady=5)\n",
        "\n",
        "    def button_click(self, text):\n",
        "        if text == \"C\":\n",
        "            self.display.delete(0, tk.END)\n",
        "        elif text == \"=\":\n",
        "            try:\n",
        "                result = eval(self.display.get())\n",
        "                self.display.delete(0, tk.END)\n",
        "                self.display.insert(0, result)\n",
        "            except:\n",
        "                self.display.delete(0, tk.END)\n",
        "                self.display.insert(0, \"Error\")\n",
        "        else:\n",
        "            self.display.insert(tk.END, text)\n",
        "\n",
        "root = tk.Tk()\n",
        "calculator = Calculator(root)\n",
        "root.mainloop()\n"
      ],
      "metadata": {
        "colab": {
          "base_uri": "https://localhost:8080/",
          "height": 356
        },
        "id": "QVKWO2Yp9cgH",
        "outputId": "c656160e-fd08-4d88-be25-5b393c480816"
      },
      "execution_count": null,
      "outputs": [
        {
          "output_type": "error",
          "ename": "TclError",
          "evalue": "ignored",
          "traceback": [
            "\u001b[0;31m---------------------------------------------------------------------------\u001b[0m",
            "\u001b[0;31mTclError\u001b[0m                                  Traceback (most recent call last)",
            "\u001b[0;32m<ipython-input-5-15065ff14ae0>\u001b[0m in \u001b[0;36m<module>\u001b[0;34m\u001b[0m\n\u001b[1;32m     52\u001b[0m             \u001b[0mself\u001b[0m\u001b[0;34m.\u001b[0m\u001b[0mdisplay\u001b[0m\u001b[0;34m.\u001b[0m\u001b[0minsert\u001b[0m\u001b[0;34m(\u001b[0m\u001b[0mtk\u001b[0m\u001b[0;34m.\u001b[0m\u001b[0mEND\u001b[0m\u001b[0;34m,\u001b[0m \u001b[0mtext\u001b[0m\u001b[0;34m)\u001b[0m\u001b[0;34m\u001b[0m\u001b[0;34m\u001b[0m\u001b[0m\n\u001b[1;32m     53\u001b[0m \u001b[0;34m\u001b[0m\u001b[0m\n\u001b[0;32m---> 54\u001b[0;31m \u001b[0mroot\u001b[0m \u001b[0;34m=\u001b[0m \u001b[0mtk\u001b[0m\u001b[0;34m.\u001b[0m\u001b[0mTk\u001b[0m\u001b[0;34m(\u001b[0m\u001b[0;34m)\u001b[0m\u001b[0;34m\u001b[0m\u001b[0;34m\u001b[0m\u001b[0m\n\u001b[0m\u001b[1;32m     55\u001b[0m \u001b[0mcalculator\u001b[0m \u001b[0;34m=\u001b[0m \u001b[0mCalculator\u001b[0m\u001b[0;34m(\u001b[0m\u001b[0mroot\u001b[0m\u001b[0;34m)\u001b[0m\u001b[0;34m\u001b[0m\u001b[0;34m\u001b[0m\u001b[0m\n\u001b[1;32m     56\u001b[0m \u001b[0mroot\u001b[0m\u001b[0;34m.\u001b[0m\u001b[0mmainloop\u001b[0m\u001b[0;34m(\u001b[0m\u001b[0;34m)\u001b[0m\u001b[0;34m\u001b[0m\u001b[0;34m\u001b[0m\u001b[0m\n",
            "\u001b[0;32m/usr/lib/python3.8/tkinter/__init__.py\u001b[0m in \u001b[0;36m__init__\u001b[0;34m(self, screenName, baseName, className, useTk, sync, use)\u001b[0m\n\u001b[1;32m   2268\u001b[0m                 \u001b[0mbaseName\u001b[0m \u001b[0;34m=\u001b[0m \u001b[0mbaseName\u001b[0m \u001b[0;34m+\u001b[0m \u001b[0mext\u001b[0m\u001b[0;34m\u001b[0m\u001b[0;34m\u001b[0m\u001b[0m\n\u001b[1;32m   2269\u001b[0m         \u001b[0minteractive\u001b[0m \u001b[0;34m=\u001b[0m \u001b[0;36m0\u001b[0m\u001b[0;34m\u001b[0m\u001b[0;34m\u001b[0m\u001b[0m\n\u001b[0;32m-> 2270\u001b[0;31m         \u001b[0mself\u001b[0m\u001b[0;34m.\u001b[0m\u001b[0mtk\u001b[0m \u001b[0;34m=\u001b[0m \u001b[0m_tkinter\u001b[0m\u001b[0;34m.\u001b[0m\u001b[0mcreate\u001b[0m\u001b[0;34m(\u001b[0m\u001b[0mscreenName\u001b[0m\u001b[0;34m,\u001b[0m \u001b[0mbaseName\u001b[0m\u001b[0;34m,\u001b[0m \u001b[0mclassName\u001b[0m\u001b[0;34m,\u001b[0m \u001b[0minteractive\u001b[0m\u001b[0;34m,\u001b[0m \u001b[0mwantobjects\u001b[0m\u001b[0;34m,\u001b[0m \u001b[0museTk\u001b[0m\u001b[0;34m,\u001b[0m \u001b[0msync\u001b[0m\u001b[0;34m,\u001b[0m \u001b[0muse\u001b[0m\u001b[0;34m)\u001b[0m\u001b[0;34m\u001b[0m\u001b[0;34m\u001b[0m\u001b[0m\n\u001b[0m\u001b[1;32m   2271\u001b[0m         \u001b[0;32mif\u001b[0m \u001b[0museTk\u001b[0m\u001b[0;34m:\u001b[0m\u001b[0;34m\u001b[0m\u001b[0;34m\u001b[0m\u001b[0m\n\u001b[1;32m   2272\u001b[0m             \u001b[0mself\u001b[0m\u001b[0;34m.\u001b[0m\u001b[0m_loadtk\u001b[0m\u001b[0;34m(\u001b[0m\u001b[0;34m)\u001b[0m\u001b[0;34m\u001b[0m\u001b[0;34m\u001b[0m\u001b[0m\n",
            "\u001b[0;31mTclError\u001b[0m: no display name and no $DISPLAY environment variable"
          ]
        }
      ]
    },
    {
      "cell_type": "code",
      "source": [
        "import tkinter as tk\n",
        "import math\n",
        "\n",
        "class ScientificCalculator:\n",
        "    def __init__(self, master):\n",
        "        self.master = master\n",
        "        master.title(\"Scientific Calculator\")\n",
        "        master.geometry(\"400x500\")\n",
        "\n",
        "        # Create the input field\n",
        "        self.display = tk.Entry(master, width=30, justify=\"right\", font=(\"Arial\", 16))\n",
        "        self.display.grid(row=0, column=0, columnspan=6, padx=10, pady=10)\n",
        "\n",
        "        # Create the buttons\n",
        "        button_text = [\"sin\", \"cos\", \"tan\", \"√\", \"x²\", \"x³\",\n",
        "                       \"log\", \"ln\", \"e\", \"π\", \"(\", \")\",\n",
        "                       \"7\", \"8\", \"9\", \"/\", \"!\", \"C\",\n",
        "                       \"4\", \"5\", \"6\", \"*\", \"xⁿ\", \"±\",\n",
        "                       \"1\", \"2\", \"3\", \"-\", \"1/x\", \"=\",\n",
        "                       \"0\", \".\", \"+\"]\n",
        "\n",
        "        r = 1\n",
        "        c = 0\n",
        "        for text in button_text:\n",
        "            self.create_button(text, r, c)\n",
        "            c += 1\n",
        "            if c > 5:\n",
        "                r += 1\n",
        "                c = 0\n",
        "\n",
        "    def create_button(self, text, row, column, columnspan=1):\n",
        "        button = tk.Button(self.master, text=text, width=5, height=2, font=(\"Arial\", 16),\n",
        "                           command=lambda: self.button_click(text))\n",
        "        button.grid(row=row, column=column, columnspan=columnspan, padx=5, pady=5)\n",
        "\n",
        "    def button_click(self, text):\n",
        "        if text == \"C\":\n",
        "            self.display.delete(0, tk.END)\n",
        "        elif text == \"=\":\n",
        "            try:\n",
        "                result = eval(self.display.get())\n",
        "                self.display.delete(0, tk.END)\n",
        "                self.display.insert(0, result)\n",
        "            except:\n",
        "                self.display.delete(0, tk.END)\n",
        "                self.display.insert(0, \"Error\")\n",
        "        elif text == \"sin\":\n",
        "            value = float(self.display.get())\n",
        "            result = math.sin(value)\n",
        "            self.display.delete(0, tk.END)\n",
        "            self.display.insert(0, result)\n",
        "        elif text == \"cos\":\n",
        "            value = float(self.display.get())\n",
        "            result = math.cos(value)\n",
        "            self.display.delete(0, tk.END)\n",
        "            self.display.insert(0, result)\n",
        "        elif text == \"tan\":\n",
        "            value = float(self.display.get())\n",
        "            result = math.tan(value)\n",
        "            self.display.delete(0, tk.END)\n",
        "            self.display.insert(0, result)\n",
        "        elif text == \"√\":\n",
        "            value = float(self.display.get())\n",
        "            result = math.sqrt(value)\n",
        "            self.display.delete(0, tk.END)\n",
        "            self.display.insert(0, result)\n",
        "        elif text == \"x²\":\n",
        "            value = float(self.display.get())\n",
        "            result = value ** 2\n",
        "            self.display.delete(0, tk.END)\n",
        "            self.display.insert(0, result)\n",
        "        elif text == \"x³\":\n",
        "            value = float(self.display.get())\n",
        "            result = value ** 3\n",
        "            self.display.delete(0, tk.END)\n",
        "            self.display.insert(0, result)\n",
        "        elif text == \"log\":\n",
        "            value = float(self.display.get())\n",
        "            result = math.log10(value)\n",
        "            self.display.delete(0, tk.END)\n",
        "            self.display.insert(0, result)\n",
        "        elif text == \"ln\n"
      ],
      "metadata": {
        "colab": {
          "base_uri": "https://localhost:8080/",
          "height": 130
        },
        "id": "jXEuFx3A9fGg",
        "outputId": "f9b5afd1-4a7d-49ef-d4c6-a1ac2aeaf424"
      },
      "execution_count": null,
      "outputs": [
        {
          "output_type": "error",
          "ename": "SyntaxError",
          "evalue": "ignored",
          "traceback": [
            "\u001b[0;36m  File \u001b[0;32m\"<ipython-input-6-8053b41d3666>\"\u001b[0;36m, line \u001b[0;32m82\u001b[0m\n\u001b[0;31m    elif text == \"ln\u001b[0m\n\u001b[0m                    ^\u001b[0m\n\u001b[0;31mSyntaxError\u001b[0m\u001b[0;31m:\u001b[0m EOL while scanning string literal\n"
          ]
        }
      ]
    },
    {
      "cell_type": "code",
      "source": [],
      "metadata": {
        "id": "hH27H7rX-MuU"
      },
      "execution_count": null,
      "outputs": []
    }
  ],
  "metadata": {
    "colab": {
      "collapsed_sections": [
        "kQvclHn9e7DX",
        "wZuESyvweyL3",
        "k95eTmi1fEa3",
        "3g2RYdFkflGf",
        "gm5_iMjRfzmX",
        "CPkVlI7kgI_N",
        "4C8w3hB935jY",
        "0zJd23XLpnFw"
      ],
      "provenance": [],
      "authorship_tag": "ABX9TyMrzT0LdgYgh3DQPNCxB3ec",
      "include_colab_link": true
    },
    "kernelspec": {
      "display_name": "Python 3",
      "name": "python3"
    },
    "language_info": {
      "name": "python"
    }
  },
  "nbformat": 4,
  "nbformat_minor": 0
}